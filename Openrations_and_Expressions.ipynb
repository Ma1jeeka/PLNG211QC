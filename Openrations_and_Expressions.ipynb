{
  "nbformat": 4,
  "nbformat_minor": 0,
  "metadata": {
    "colab": {
      "provenance": [],
      "authorship_tag": "ABX9TyPv2uYpxpZ/+UUnJAAQyIo4",
      "include_colab_link": true
    },
    "kernelspec": {
      "name": "python3",
      "display_name": "Python 3"
    },
    "language_info": {
      "name": "python"
    }
  },
  "cells": [
    {
      "cell_type": "markdown",
      "metadata": {
        "id": "view-in-github",
        "colab_type": "text"
      },
      "source": [
        "<a href=\"https://colab.research.google.com/github/alvajanpaulmiguel/PLNG211QC/blob/main/Openrations_and_Expressions.ipynb\" target=\"_parent\"><img src=\"https://colab.research.google.com/assets/colab-badge.svg\" alt=\"Open In Colab\"/></a>"
      ]
    },
    {
      "cell_type": "markdown",
      "source": [
        "BOOLEAN OPERATORS\n"
      ],
      "metadata": {
        "id": "Hg8tWfVCjTZE"
      }
    },
    {
      "cell_type": "markdown",
      "source": [
        "-one of two values: true or false"
      ],
      "metadata": {
        "id": "ViU3YtAojGt1"
      }
    },
    {
      "cell_type": "code",
      "source": [
        "print(10>9)\n",
        "print(10==9)\n",
        "print(10<9)"
      ],
      "metadata": {
        "colab": {
          "base_uri": "https://localhost:8080/"
        },
        "id": "GRz4R0TOjJct",
        "outputId": "07efe969-2288-4626-82d3-59d24e56fac9"
      },
      "execution_count": 20,
      "outputs": [
        {
          "output_type": "stream",
          "name": "stdout",
          "text": [
            "True\n",
            "False\n",
            "False\n"
          ]
        }
      ]
    },
    {
      "cell_type": "markdown",
      "source": [
        "The bool() function allows you to evaluate any value and give you true or false in return"
      ],
      "metadata": {
        "id": "5KZupsrbji_V"
      }
    },
    {
      "cell_type": "code",
      "source": [
        "print(bool(\"Hello\"))\n",
        "print(bool(15))\n"
      ],
      "metadata": {
        "id": "psZsSW0VjbHk"
      },
      "execution_count": null,
      "outputs": []
    },
    {
      "cell_type": "markdown",
      "source": [
        "Almost any value is evaluated to true if it has some sort of content except for empty space/set."
      ],
      "metadata": {
        "id": "hlKNKIQijpY9"
      }
    },
    {
      "cell_type": "markdown",
      "source": [
        "#Boolean Operators\n"
      ],
      "metadata": {
        "id": "4o0K-SxKj7lM"
      }
    },
    {
      "cell_type": "code",
      "source": [
        "a=10\n",
        "b=10\n",
        "print(10>9)\n",
        "print(10<9)\n",
        "print(10==9)\n",
        "print(a!=b)"
      ],
      "metadata": {
        "colab": {
          "base_uri": "https://localhost:8080/"
        },
        "id": "wFCQrh0ej5-U",
        "outputId": "37eb213d-eaa0-4637-d20c-392260101000"
      },
      "execution_count": 31,
      "outputs": [
        {
          "output_type": "stream",
          "name": "stdout",
          "text": [
            "True\n",
            "False\n",
            "False\n",
            "False\n"
          ]
        }
      ]
    },
    {
      "cell_type": "markdown",
      "source": [
        "Bool()Funtion"
      ],
      "metadata": {
        "id": "hakpxytjkiHM"
      }
    },
    {
      "cell_type": "code",
      "source": [
        "print(bool(15))\n",
        "print(bool(\"Maria\"))\n",
        "\n",
        "print(bool(0))\n",
        "print(bool(None))"
      ],
      "metadata": {
        "colab": {
          "base_uri": "https://localhost:8080/"
        },
        "id": "hPdKuuI7kqK7",
        "outputId": "67946a48-b6a9-450d-826a-210658d5e922"
      },
      "execution_count": 17,
      "outputs": [
        {
          "output_type": "stream",
          "name": "stdout",
          "text": [
            "True\n",
            "True\n",
            "False\n",
            "False\n"
          ]
        }
      ]
    },
    {
      "cell_type": "markdown",
      "source": [
        "Functions that return a boolean"
      ],
      "metadata": {
        "id": "JMIsABZIk_-j"
      }
    },
    {
      "cell_type": "code",
      "source": [
        "def my_Function():\n",
        "  return False\n",
        "\n",
        "  print(my_Function())\n"
      ],
      "metadata": {
        "id": "H1fz9yNolCq6"
      },
      "execution_count": 16,
      "outputs": []
    },
    {
      "cell_type": "markdown",
      "source": [
        "You can execute code based on the boolean answer of a function:"
      ],
      "metadata": {
        "id": "jqG0xwMhmAeL"
      }
    },
    {
      "cell_type": "code",
      "source": [
        "def my_Function():\n",
        "  return True\n",
        "\n",
        "  if my_Function():\n",
        "    print(\"YES!\")\n",
        "    else:\n",
        "      print(\"NO!\")"
      ],
      "metadata": {
        "colab": {
          "base_uri": "https://localhost:8080/",
          "height": 130
        },
        "id": "m94Nj1IQmD11",
        "outputId": "c7bf9e17-d263-4e6c-d41a-df115f289948"
      },
      "execution_count": 64,
      "outputs": [
        {
          "output_type": "error",
          "ename": "SyntaxError",
          "evalue": "ignored",
          "traceback": [
            "\u001b[0;36m  File \u001b[0;32m\"<ipython-input-64-c8911713bc2e>\"\u001b[0;36m, line \u001b[0;32m6\u001b[0m\n\u001b[0;31m    else:\u001b[0m\n\u001b[0m       ^\u001b[0m\n\u001b[0;31mSyntaxError\u001b[0m\u001b[0;31m:\u001b[0m invalid syntax\n"
          ]
        }
      ]
    },
    {
      "cell_type": "code",
      "source": [
        "c=6     #110\n",
        "d=7     #111\n",
        "print(a==b)\n",
        "\n",
        "print(c!=c)\n"
      ],
      "metadata": {
        "colab": {
          "base_uri": "https://localhost:8080/"
        },
        "id": "-LqKaACOmil8",
        "outputId": "4ae198e1-389f-460b-cab1-50b90d478bf0"
      },
      "execution_count": 44,
      "outputs": [
        {
          "output_type": "stream",
          "name": "stdout",
          "text": [
            "True\n",
            "False\n"
          ]
        }
      ]
    },
    {
      "cell_type": "markdown",
      "source": [
        "PYTHON OPERATORS"
      ],
      "metadata": {
        "id": "spsuPZNOoXAD"
      }
    },
    {
      "cell_type": "code",
      "source": [
        "print(10+9) #addition\n",
        "print(10-9) #subtraction\n",
        "print(10*9) #multiplication\n",
        "print(10/5) #division\n",
        "print(10//3) #floor division\n",
        "print(10**2) #power\n",
        "print(10%3) #remainder"
      ],
      "metadata": {
        "colab": {
          "base_uri": "https://localhost:8080/"
        },
        "id": "DAkNWTPPoWaU",
        "outputId": "3e809f84-847c-4fef-f4b2-15488823b808"
      },
      "execution_count": 43,
      "outputs": [
        {
          "output_type": "stream",
          "name": "stdout",
          "text": [
            "19\n",
            "1\n",
            "90\n",
            "2.0\n",
            "3\n",
            "100\n",
            "1\n"
          ]
        }
      ]
    },
    {
      "cell_type": "markdown",
      "source": [
        "BITWISE OPERATORS"
      ],
      "metadata": {
        "id": "1sFP75_1qOtk"
      }
    },
    {
      "cell_type": "code",
      "source": [
        "e=60\n",
        "f=13\n",
        "e ^ f\n"
      ],
      "metadata": {
        "colab": {
          "base_uri": "https://localhost:8080/"
        },
        "id": "q8zpYBiNqSHF",
        "outputId": "f16839c4-d20d-4fe9-fc34-0916f91ebe4e"
      },
      "execution_count": 47,
      "outputs": [
        {
          "output_type": "execute_result",
          "data": {
            "text/plain": [
              "49"
            ]
          },
          "metadata": {},
          "execution_count": 47
        }
      ]
    },
    {
      "cell_type": "markdown",
      "source": [
        "Python Assignment Operator"
      ],
      "metadata": {
        "id": "M1_o7beHtT_z"
      }
    },
    {
      "cell_type": "code",
      "source": [
        "x=4\n",
        "x+=3 #x = x+3, x = 4+3 = 7\n",
        "print(\"x =\",x) \n",
        "\n"
      ],
      "metadata": {
        "colab": {
          "base_uri": "https://localhost:8080/"
        },
        "id": "VeuHBm8GtWI7",
        "outputId": "a04ba4b6-c663-49c8-b938-f99841a16f00"
      },
      "execution_count": 60,
      "outputs": [
        {
          "output_type": "stream",
          "name": "stdout",
          "text": [
            "x= 7\n"
          ]
        }
      ]
    },
    {
      "cell_type": "markdown",
      "source": [
        "Logical Operator"
      ],
      "metadata": {
        "id": "KlY0A1nyutdE"
      }
    },
    {
      "cell_type": "code",
      "source": [
        "(4>3) and (5==5) #and\n",
        "(6==6) or (6!=6) #or"
      ],
      "metadata": {
        "colab": {
          "base_uri": "https://localhost:8080/"
        },
        "id": "YMQCiEvHuvTE",
        "outputId": "e42fed2c-6040-4b03-a05b-ae32569a75c5"
      },
      "execution_count": 61,
      "outputs": [
        {
          "output_type": "execute_result",
          "data": {
            "text/plain": [
              "True"
            ]
          },
          "metadata": {},
          "execution_count": 61
        }
      ]
    },
    {
      "cell_type": "markdown",
      "source": [
        "Identify Operators"
      ],
      "metadata": {
        "id": "PZm4NVkQvtBb"
      }
    },
    {
      "cell_type": "code",
      "source": [
        "4 is 3\n",
        "7 is not 7"
      ],
      "metadata": {
        "id": "nn-zNcurvuRb"
      },
      "execution_count": null,
      "outputs": []
    }
  ]
}