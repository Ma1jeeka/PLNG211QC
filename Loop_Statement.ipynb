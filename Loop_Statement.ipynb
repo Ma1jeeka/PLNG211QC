{
  "nbformat": 4,
  "nbformat_minor": 0,
  "metadata": {
    "colab": {
      "provenance": [],
      "authorship_tag": "ABX9TyPdR7rbOKKy36u+aaKqdzGy",
      "include_colab_link": true
    },
    "kernelspec": {
      "name": "python3",
      "display_name": "Python 3"
    },
    "language_info": {
      "name": "python"
    }
  },
  "cells": [
    {
      "cell_type": "markdown",
      "metadata": {
        "id": "view-in-github",
        "colab_type": "text"
      },
      "source": [
        "<a href=\"https://colab.research.google.com/github/alvajanpaulmiguel/PLNG211QC/blob/main/Loop_Statement.ipynb\" target=\"_parent\"><img src=\"https://colab.research.google.com/assets/colab-badge.svg\" alt=\"Open In Colab\"/></a>"
      ]
    },
    {
      "cell_type": "markdown",
      "source": [
        "#The Break Statement"
      ],
      "metadata": {
        "id": "xQe35q2X1zeG"
      }
    },
    {
      "cell_type": "code",
      "execution_count": 2,
      "metadata": {
        "colab": {
          "base_uri": "https://localhost:8080/"
        },
        "id": "moMdObDM1wvr",
        "outputId": "fcd530a4-1530-4520-8557-f24c015f73b4"
      },
      "outputs": [
        {
          "output_type": "stream",
          "name": "stdout",
          "text": [
            "1\n",
            "2\n",
            "3\n"
          ]
        }
      ],
      "source": [
        "i = 1\n",
        "while i < 6:\n",
        "  print(i)\n",
        "  if i == 3:\n",
        "    break\n",
        "  i+=1"
      ]
    },
    {
      "cell_type": "code",
      "source": [
        "#break statement application 1\n",
        "#Display only 3 after using break statement\n",
        "\n",
        "i = 3\n",
        "while i < 6:\n",
        "  if i == 3:\n",
        "      print(i)\n",
        "    break\n",
        "  i+=1"
      ],
      "metadata": {
        "colab": {
          "base_uri": "https://localhost:8080/"
        },
        "id": "vR2fS87n3xOr",
        "outputId": "71726d5c-d486-4e99-b635-99fd1d7cfa8e"
      },
      "execution_count": 5,
      "outputs": [
        {
          "output_type": "stream",
          "name": "stdout",
          "text": [
            "3\n"
          ]
        }
      ]
    },
    {
      "cell_type": "code",
      "source": [
        "#continue statement\n",
        "h = 0\n",
        "while h < 6:\n",
        "  h+=1\n",
        "  if h==3:\n",
        "    continue\n",
        "  print(h)"
      ],
      "metadata": {
        "colab": {
          "base_uri": "https://localhost:8080/"
        },
        "id": "vA_qpH-35QJe",
        "outputId": "9f14ea2b-4e63-45d6-d6ad-9183797d7a34"
      },
      "execution_count": 7,
      "outputs": [
        {
          "output_type": "stream",
          "name": "stdout",
          "text": [
            "1\n",
            "2\n",
            "4\n",
            "5\n",
            "6\n"
          ]
        }
      ]
    },
    {
      "cell_type": "code",
      "source": [
        "#else statement\n",
        "j = 1\n",
        "while j<6:\n",
        "  print(j)\n",
        "  j+=1\n",
        "else:\n",
        "   print(\"j is no longer less than 6\")"
      ],
      "metadata": {
        "colab": {
          "base_uri": "https://localhost:8080/"
        },
        "id": "DQg4RDZI6yAZ",
        "outputId": "9f239c36-a4a2-477f-d312-162c3e7ef013"
      },
      "execution_count": 13,
      "outputs": [
        {
          "output_type": "stream",
          "name": "stdout",
          "text": [
            "1\n",
            "2\n",
            "3\n",
            "4\n",
            "5\n",
            "j is no longer less than 6\n"
          ]
        }
      ]
    },
    {
      "cell_type": "code",
      "source": [
        "#application 2\n",
        "k = 0\n",
        "while k <= 10:\n",
        "    print('hello', k)\n",
        "    k = k + 1"
      ],
      "metadata": {
        "colab": {
          "base_uri": "https://localhost:8080/"
        },
        "id": "4Zyf_EAh7u1k",
        "outputId": "b9832bc8-d806-49d0-d513-f1d282f25bdd"
      },
      "execution_count": 24,
      "outputs": [
        {
          "output_type": "stream",
          "name": "stdout",
          "text": [
            "hello 0\n",
            "hello 1\n",
            "hello 2\n",
            "hello 3\n",
            "hello 4\n",
            "hello 5\n",
            "hello 6\n",
            "hello 7\n",
            "hello 8\n",
            "hello 9\n",
            "hello 10\n"
          ]
        }
      ]
    },
    {
      "cell_type": "code",
      "source": [
        "#application 3\n",
        "#create a python program that displays integers less than 10 but not less than 3 {3,4,5,6,7,8,9}\n",
        "for l in range(3,10):\n",
        "  print(l)\n",
        "\n",
        "l = 9\n",
        "while l<10 and l>=3:\n",
        "  print(l)\n",
        "  l-=1  "
      ],
      "metadata": {
        "colab": {
          "base_uri": "https://localhost:8080/"
        },
        "id": "uPtJQgpQ9lWC",
        "outputId": "47b1be99-97b8-40f4-daad-43aa342aad65"
      },
      "execution_count": 31,
      "outputs": [
        {
          "output_type": "stream",
          "name": "stdout",
          "text": [
            "3\n",
            "4\n",
            "5\n",
            "6\n",
            "7\n",
            "8\n",
            "9\n",
            "9\n",
            "8\n",
            "7\n",
            "6\n",
            "5\n",
            "4\n",
            "3\n"
          ]
        }
      ]
    }
  ]
}