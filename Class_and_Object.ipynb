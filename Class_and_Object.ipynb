{
  "nbformat": 4,
  "nbformat_minor": 0,
  "metadata": {
    "colab": {
      "provenance": [],
      "authorship_tag": "ABX9TyOS9BYuBnkyG5EIhVXZDxJs",
      "include_colab_link": true
    },
    "kernelspec": {
      "name": "python3",
      "display_name": "Python 3"
    },
    "language_info": {
      "name": "python"
    }
  },
  "cells": [
    {
      "cell_type": "markdown",
      "metadata": {
        "id": "view-in-github",
        "colab_type": "text"
      },
      "source": [
        "<a href=\"https://colab.research.google.com/github/alvajanpaulmiguel/PLNG211QC/blob/main/Class_and_Object.ipynb\" target=\"_parent\"><img src=\"https://colab.research.google.com/assets/colab-badge.svg\" alt=\"Open In Colab\"/></a>"
      ]
    },
    {
      "cell_type": "code",
      "execution_count": 27,
      "metadata": {
        "colab": {
          "base_uri": "https://localhost:8080/"
        },
        "id": "cMmM6ZtkRRyn",
        "outputId": "13eae356-f6ee-4f5d-b9fd-0db58a622287"
      },
      "outputs": [
        {
          "output_type": "stream",
          "name": "stdout",
          "text": [
            "The name of the person is:  Ana\n",
            "The age of the person is:  19\n",
            "The name of the student is:  Lino\n",
            "The age of the student is:  26\n",
            "The name of the teacher is:  Maria\n",
            "The age of the teacher is:  26\n"
          ]
        }
      ],
      "source": [
        "class Person:\n",
        "  def __init__(self,name,age):\n",
        "    self.name = name  #attributes\n",
        "    self.age = age\n",
        "class Student(Person):\n",
        "  pass\n",
        "\n",
        "class Teacher(Person):\n",
        "  pass\n",
        "  def Name(self):\n",
        "    print(\"The person is\"+ self.name)\n",
        "person1 = Person(\"Ana\",19)  #instantation/add value to an attribute\n",
        "print(\"The name of the person is: \",person1.name)\n",
        "print(\"The age of the person is: \",person1.age)\n",
        "\n",
        "person2 = Student(\"Lino\",26)\n",
        "print(\"The name of the student is: \",person2.name)\n",
        "print(\"The age of the student is: \",person2.age)\n",
        "\n",
        "person3 = Teacher(\"Maria\",26)\n",
        "print(\"The name of the teacher is: \",person3.name)\n",
        "print(\"The age of the teacher is: \",person3.age) \n"
      ]
    },
    {
      "cell_type": "code",
      "source": [
        "person2.age = 35\n",
        "print(\"The name and age of student\", person2.name + \" is \"+ str(person2.age))"
      ],
      "metadata": {
        "colab": {
          "base_uri": "https://localhost:8080/"
        },
        "id": "A8kkrV9cVlgw",
        "outputId": "6ccd865b-34ee-433d-9cae-09a9a434f4c8"
      },
      "execution_count": 22,
      "outputs": [
        {
          "output_type": "stream",
          "name": "stdout",
          "text": [
            "The name and age of student Lino is 35\n"
          ]
        }
      ]
    },
    {
      "cell_type": "code",
      "source": [
        "print(\"The name of the teacher is:\",person3.name)\n",
        "person3.age = 39\n",
        "\n",
        "print(\"The of age of the teacher is\",person3.age)\n",
        "\n",
        "del person3.age\n",
        "del person3.name\n",
        "print(\"The of age of the teacher is\",person3.age)"
      ],
      "metadata": {
        "colab": {
          "base_uri": "https://localhost:8080/",
          "height": 235
        },
        "id": "Vero4hCWX3pg",
        "outputId": "2ee72aff-55c4-4a7f-b7bb-d00f41ca6530"
      },
      "execution_count": 29,
      "outputs": [
        {
          "output_type": "error",
          "ename": "AttributeError",
          "evalue": "ignored",
          "traceback": [
            "\u001b[0;31m---------------------------------------------------------------------------\u001b[0m",
            "\u001b[0;31mAttributeError\u001b[0m                            Traceback (most recent call last)",
            "\u001b[0;32m<ipython-input-29-9cbd996cc16e>\u001b[0m in \u001b[0;36m<module>\u001b[0;34m\u001b[0m\n\u001b[0;32m----> 1\u001b[0;31m \u001b[0mprint\u001b[0m\u001b[0;34m(\u001b[0m\u001b[0;34m\"The name of the teacher is:\"\u001b[0m\u001b[0;34m,\u001b[0m\u001b[0mperson3\u001b[0m\u001b[0;34m.\u001b[0m\u001b[0mname\u001b[0m\u001b[0;34m)\u001b[0m\u001b[0;34m\u001b[0m\u001b[0;34m\u001b[0m\u001b[0m\n\u001b[0m\u001b[1;32m      2\u001b[0m \u001b[0mperson3\u001b[0m\u001b[0;34m.\u001b[0m\u001b[0mage\u001b[0m \u001b[0;34m=\u001b[0m \u001b[0;36m39\u001b[0m\u001b[0;34m\u001b[0m\u001b[0;34m\u001b[0m\u001b[0m\n\u001b[1;32m      3\u001b[0m \u001b[0;34m\u001b[0m\u001b[0m\n\u001b[1;32m      4\u001b[0m \u001b[0mprint\u001b[0m\u001b[0;34m(\u001b[0m\u001b[0;34m\"The of age of the teacher is\"\u001b[0m\u001b[0;34m,\u001b[0m\u001b[0mperson3\u001b[0m\u001b[0;34m.\u001b[0m\u001b[0mage\u001b[0m\u001b[0;34m)\u001b[0m\u001b[0;34m\u001b[0m\u001b[0;34m\u001b[0m\u001b[0m\n\u001b[1;32m      5\u001b[0m \u001b[0;34m\u001b[0m\u001b[0m\n",
            "\u001b[0;31mAttributeError\u001b[0m: 'Teacher' object has no attribute 'name'"
          ]
        }
      ]
    },
    {
      "cell_type": "code",
      "source": [
        "#Application 1. Write a rectangle class in python language with length and width as attributes \n",
        "#Create a Perimeter () and Area () as methods to compute for the perimeter and area of a rectangle\n",
        "\n",
        "class rectangle():\n",
        "    def __init__(rec, width, length):\n",
        "        rec.width = width\n",
        "        rec.length = length\n",
        "\n",
        "    def perimeter(rec):\n",
        "      return (rec.width + rec.length) * 2\n",
        "\n",
        "    def area(rec):\n",
        "        return rec.width * rec.length\n",
        "\n",
        "recWidth = int(input(\"Enter width of rectangle: \"))\n",
        "recLength = int(input(\"Enter length of rectangle: \"))\n",
        "\n",
        "rectangleAreaPerim = rectangle(recWidth, recLength)\n",
        "\n",
        "print(\"The area of rectangle is :\", rectangleAreaPerim.area())\n",
        "print(\"The perimeter of rectangle is :\", rectangleAreaPerim.perimeter())"
      ],
      "metadata": {
        "colab": {
          "base_uri": "https://localhost:8080/"
        },
        "id": "g50URFPmZHI-",
        "outputId": "edcd7951-2b0e-4468-f05d-ee2ca5a0fab3"
      },
      "execution_count": 31,
      "outputs": [
        {
          "output_type": "stream",
          "name": "stdout",
          "text": [
            "Enter width of rectangle: 4\n",
            "Enter length of rectangle: 4\n",
            "The area of rectangle is : 16\n",
            "The perimeter of rectangle is : 16\n"
          ]
        }
      ]
    }
  ]
}