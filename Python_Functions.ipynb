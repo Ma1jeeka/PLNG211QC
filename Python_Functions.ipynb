{
  "nbformat": 4,
  "nbformat_minor": 0,
  "metadata": {
    "colab": {
      "provenance": [],
      "authorship_tag": "ABX9TyPTuVx6/DACdqMHCCoc1AAM",
      "include_colab_link": true
    },
    "kernelspec": {
      "name": "python3",
      "display_name": "Python 3"
    },
    "language_info": {
      "name": "python"
    }
  },
  "cells": [
    {
      "cell_type": "markdown",
      "metadata": {
        "id": "view-in-github",
        "colab_type": "text"
      },
      "source": [
        "<a href=\"https://colab.research.google.com/github/alvajanpaulmiguel/PLNG211QC/blob/main/Python_Functions.ipynb\" target=\"_parent\"><img src=\"https://colab.research.google.com/assets/colab-badge.svg\" alt=\"Open In Colab\"/></a>"
      ]
    },
    {
      "cell_type": "code",
      "execution_count": 8,
      "metadata": {
        "colab": {
          "base_uri": "https://localhost:8080/"
        },
        "id": "mkWHJUD4K-lw",
        "outputId": "7cb1e6be-5ff1-4a0b-bb3e-cea0e8821d76"
      },
      "outputs": [
        {
          "output_type": "stream",
          "name": "stdout",
          "text": [
            "200\n",
            "Celsius 182.22\n",
            "Kelvin 366.48\n"
          ]
        }
      ],
      "source": [
        "def convert_to_celcius(fahrenheit):\n",
        "  return (fahrenheit - 32) * 5/9\n",
        "\n",
        "def convert_to_kelvin(fahrenheit):\n",
        "  return ((fahrenheit -32)*5/9) + 273.15\n",
        "fahrenheit = int(input())\n",
        "\n",
        "print(\"Celsius\",round(convert_to_celsius(fahrenheit),2))\n",
        "print(\"Kelvin\",round(convert_to_kelvin(fahrenheit),2))\n"
      ]
    },
    {
      "cell_type": "code",
      "source": [
        "def Name():\n",
        "  pass"
      ],
      "metadata": {
        "id": "zjcDOe8dRgtf"
      },
      "execution_count": 14,
      "outputs": []
    },
    {
      "cell_type": "code",
      "source": [
        "def my_function(fname):\n",
        "  return(fname + \"Sayo \")\n",
        "\n",
        "my_function(\" Mam\")\n",
        "my_function(\" Maria\")\n",
        "my_function(\" Rizette\")"
      ],
      "metadata": {
        "colab": {
          "base_uri": "https://localhost:8080/",
          "height": 35
        },
        "id": "3tNKgdHXQ4J_",
        "outputId": "762a8ace-24f5-468f-ed80-3bd72d0ab962"
      },
      "execution_count": 20,
      "outputs": [
        {
          "output_type": "execute_result",
          "data": {
            "text/plain": [
              "' \\nRizetteSayo '"
            ],
            "application/vnd.google.colaboratory.intrinsic+json": {
              "type": "string"
            }
          },
          "metadata": {},
          "execution_count": 20
        }
      ]
    },
    {
      "cell_type": "code",
      "source": [
        "#Retruns a value\n",
        "\n",
        "def myFunction(x):\n",
        "  return(5 + x)\n",
        "print(myFunction(4))\n",
        "print(myFunction(5))\n",
        "print(myFunction(6))\n"
      ],
      "metadata": {
        "colab": {
          "base_uri": "https://localhost:8080/"
        },
        "id": "p81OiWjcSLum",
        "outputId": "24bcb1c3-f866-4f2f-dc8d-65299c4ff408"
      },
      "execution_count": 22,
      "outputs": [
        {
          "output_type": "stream",
          "name": "stdout",
          "text": [
            "9\n",
            "10\n",
            "11\n"
          ]
        }
      ]
    },
    {
      "cell_type": "code",
      "source": [
        "#Exercise 1\n",
        "\n",
        "print(min(2,3,4))\n",
        "print(max(2, -3, 4, 7, -5))\n",
        "print(max(2,-3,min(4,7), -5))"
      ],
      "metadata": {
        "colab": {
          "base_uri": "https://localhost:8080/"
        },
        "id": "DOWFAztETnLR",
        "outputId": "772d9d24-6eae-4d4b-88c5-43acb3a84ca5"
      },
      "execution_count": 23,
      "outputs": [
        {
          "output_type": "stream",
          "name": "stdout",
          "text": [
            "2\n",
            "7\n",
            "4\n"
          ]
        }
      ]
    },
    {
      "cell_type": "code",
      "source": [
        "def sum_function(a, b, c):\n",
        "  return(a+b+c)\n",
        "\n",
        "def avg_function(a, b, c): \n",
        "  return((a+b+c)/3)\n",
        "\n",
        "def sumsquares(a, b, c):\n",
        "  return(pow(a,2)+pow(b,2)+pow(c,2))\n",
        "\n",
        "a = int(input(\"int 1: \"))\n",
        "b = int(input(\"int 2: \"))\n",
        "c = int(input(\"int 3: \"))\n",
        "\n",
        "print(\"Sum: \",sum_function(a,b,c))\n",
        "print(\"Avergae: \",avg_function(a,b,c))\n",
        "print(\"Sum of squares: \",sumsquares(a,b,c))"
      ],
      "metadata": {
        "id": "PTN_94myTpzY"
      },
      "execution_count": null,
      "outputs": []
    }
  ]
}