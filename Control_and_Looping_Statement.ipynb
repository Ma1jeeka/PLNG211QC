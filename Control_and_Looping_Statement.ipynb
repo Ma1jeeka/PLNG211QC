{
  "nbformat": 4,
  "nbformat_minor": 0,
  "metadata": {
    "colab": {
      "provenance": [],
      "authorship_tag": "ABX9TyMNVjHj2YV2PFwZNPo113x0",
      "include_colab_link": true
    },
    "kernelspec": {
      "name": "python3",
      "display_name": "Python 3"
    },
    "language_info": {
      "name": "python"
    }
  },
  "cells": [
    {
      "cell_type": "markdown",
      "metadata": {
        "id": "view-in-github",
        "colab_type": "text"
      },
      "source": [
        "<a href=\"https://colab.research.google.com/github/alvajanpaulmiguel/PLNG211QC/blob/main/Control_and_Looping_Statement.ipynb\" target=\"_parent\"><img src=\"https://colab.research.google.com/assets/colab-badge.svg\" alt=\"Open In Colab\"/></a>"
      ]
    },
    {
      "cell_type": "markdown",
      "source": [
        "#Conditional Statement"
      ],
      "metadata": {
        "id": "ewt2dlfV1Mzd"
      }
    },
    {
      "cell_type": "markdown",
      "source": [
        "#If statement"
      ],
      "metadata": {
        "id": "7kuDG6a35TpB"
      }
    },
    {
      "cell_type": "code",
      "source": [
        "\n",
        "\n",
        "a = 12\n",
        "b = 100\n",
        "\n",
        "if a<b:\n",
        "  print(\"a is less than b\")"
      ],
      "metadata": {
        "colab": {
          "base_uri": "https://localhost:8080/"
        },
        "id": "IBoY0KY-1Jsk",
        "outputId": "7f510334-8c8c-4e1c-c0f8-6af6e3052631"
      },
      "execution_count": 3,
      "outputs": [
        {
          "output_type": "stream",
          "name": "stdout",
          "text": [
            "a is less than b\n"
          ]
        }
      ]
    },
    {
      "cell_type": "markdown",
      "source": [
        "#Elif Statement"
      ],
      "metadata": {
        "id": "IyiARwqo5RKK"
      }
    },
    {
      "cell_type": "code",
      "source": [
        "\n",
        "if a<b:\n",
        "  print(\"a is less than b\")\n",
        "elif a>b:\n",
        "  print(\"a is greater than b\")"
      ],
      "metadata": {
        "colab": {
          "base_uri": "https://localhost:8080/"
        },
        "id": "VcrQMHRY3BCZ",
        "outputId": "4fd93064-3c40-4eeb-96ee-33bf87cc56ee"
      },
      "execution_count": 4,
      "outputs": [
        {
          "output_type": "stream",
          "name": "stdout",
          "text": [
            "a is less than b\n"
          ]
        }
      ]
    },
    {
      "cell_type": "code",
      "source": [
        "if a<b:\n",
        "  print(\"a is less than b\")\n",
        "elif a>b:\n",
        "  print(\"a is greater than b\")\n",
        "else: \n",
        "  print('a is equal to b')"
      ],
      "metadata": {
        "colab": {
          "base_uri": "https://localhost:8080/"
        },
        "id": "vkAGszX_4cYG",
        "outputId": "5516093e-0a8f-4d9b-aebb-d855c2bfe414"
      },
      "execution_count": 6,
      "outputs": [
        {
          "output_type": "stream",
          "name": "stdout",
          "text": [
            "a is less than b\n"
          ]
        }
      ]
    },
    {
      "cell_type": "markdown",
      "source": [
        "#Short Hand If Statemnt"
      ],
      "metadata": {
        "id": "Vc0e9hJ25OEK"
      }
    },
    {
      "cell_type": "code",
      "source": [
        "\n",
        "c = 5\n",
        "d = 10\n",
        "\n",
        "if c>d:\n",
        "  print(\"c>\")"
      ],
      "metadata": {
        "id": "xIZc6xjp4523"
      },
      "execution_count": 10,
      "outputs": []
    },
    {
      "cell_type": "markdown",
      "source": [
        "#Short Hand If Else Statement"
      ],
      "metadata": {
        "id": "7SDCounN5MAr"
      }
    },
    {
      "cell_type": "code",
      "source": [
        "print('c>d') if c>d else print('d>c')"
      ],
      "metadata": {
        "colab": {
          "base_uri": "https://localhost:8080/"
        },
        "id": "l6Cm2p1W5FSV",
        "outputId": "91d61889-ecdc-48da-fc63-64e7452d2bef"
      },
      "execution_count": 13,
      "outputs": [
        {
          "output_type": "stream",
          "name": "stdout",
          "text": [
            "d>c\n"
          ]
        }
      ]
    },
    {
      "cell_type": "markdown",
      "source": [
        "#And Statement\n"
      ],
      "metadata": {
        "id": "bvAETuCW6d27"
      }
    },
    {
      "cell_type": "code",
      "source": [
        "if 5>10 and 8>4:\n",
        "  print(\"both statements are true\")\n",
        "else:\n",
        "  print(\"one of the statements is false /both statements are not true\")"
      ],
      "metadata": {
        "colab": {
          "base_uri": "https://localhost:8080/"
        },
        "id": "7uE3JbMO6fqy",
        "outputId": "deb54e57-94ba-411e-bd33-ca61d4cb087c"
      },
      "execution_count": 16,
      "outputs": [
        {
          "output_type": "stream",
          "name": "stdout",
          "text": [
            "one of the statements is false /both statements are not true\n"
          ]
        }
      ]
    },
    {
      "cell_type": "markdown",
      "source": [
        "#Or Statement"
      ],
      "metadata": {
        "id": "joPIux8Z7U88"
      }
    },
    {
      "cell_type": "code",
      "source": [
        "if 5>10 or 4>8:\n",
        "  print('True')\n",
        "else:\n",
        "  print('False')"
      ],
      "metadata": {
        "colab": {
          "base_uri": "https://localhost:8080/"
        },
        "id": "-IpGlvGg7WGT",
        "outputId": "0571ac70-b943-47f0-c1e2-d43a22c299d4"
      },
      "execution_count": 17,
      "outputs": [
        {
          "output_type": "stream",
          "name": "stdout",
          "text": [
            "False\n"
          ]
        }
      ]
    },
    {
      "cell_type": "markdown",
      "source": [
        "#Bitwise operator ^ (xor)"
      ],
      "metadata": {
        "id": "XQqxLGV_8HDx"
      }
    },
    {
      "cell_type": "code",
      "source": [
        "e = 4           #0100 in binary\n",
        "f = 2           #0010 in binary\n",
        "\n",
        "e ^ f"
      ],
      "metadata": {
        "colab": {
          "base_uri": "https://localhost:8080/"
        },
        "id": "cRiJevLh8LyY",
        "outputId": "37b321e4-cd37-4e7e-fb65-6381f71745cc"
      },
      "execution_count": 19,
      "outputs": [
        {
          "output_type": "execute_result",
          "data": {
            "text/plain": [
              "6"
            ]
          },
          "metadata": {},
          "execution_count": 19
        }
      ]
    },
    {
      "cell_type": "markdown",
      "source": [
        "#Nested If Statement"
      ],
      "metadata": {
        "id": "UY56uYHQ9vvb"
      }
    },
    {
      "cell_type": "code",
      "source": [
        "x = 41\n",
        "if x>10:\n",
        "  print(\"number is above 10\")\n",
        "  if x>20:\n",
        "    print(\"number is above 20\")\n",
        "    if x>30:\n",
        "      print(\"number is above 30\")\n",
        "      if x>40:\n",
        "        print(\"number is above 40\")\n",
        "      else:\n",
        "          print(\"number is above 50\")\n",
        "    else:\n",
        "      print(\"number is less than 40\")"
      ],
      "metadata": {
        "colab": {
          "base_uri": "https://localhost:8080/"
        },
        "id": "pJifzQ3v9xkB",
        "outputId": "6a745c9d-8aed-42e6-d3da-5fd1ca79d2ff"
      },
      "execution_count": 24,
      "outputs": [
        {
          "output_type": "stream",
          "name": "stdout",
          "text": [
            "number is above 10\n",
            "number is above 20\n",
            "number is above 30\n",
            "number is above 40\n"
          ]
        }
      ]
    },
    {
      "cell_type": "code",
      "source": [
        "#Write a program that determines if the input age is qualified to vote or not.\n",
        "#The qualifying age is 18 years old above."
      ],
      "metadata": {
        "id": "ndBSbblS_fdb"
      },
      "execution_count": null,
      "outputs": []
    },
    {
      "cell_type": "code",
      "source": [
        "f = 17\n",
        "\n",
        "if f<18:\n",
        "  print(\"f is not qualified to vote\")\n",
        "elif f>=18:\n",
        "  print(\"f is qualified to vote\")"
      ],
      "metadata": {
        "colab": {
          "base_uri": "https://localhost:8080/"
        },
        "id": "_VcJU61m_mox",
        "outputId": "091f7418-ae96-4616-a893-aa446aa17212"
      },
      "execution_count": 25,
      "outputs": [
        {
          "output_type": "stream",
          "name": "stdout",
          "text": [
            "f is not qualified to vote\n"
          ]
        }
      ]
    },
    {
      "cell_type": "code",
      "source": [
        "age = input(\"Enter age:\")\n",
        "if int(age)<18:\n",
        " print(\"Age is not qualified\") \n",
        "elif int(age)>=18:\n",
        " print(\"Age is qualified\") "
      ],
      "metadata": {
        "colab": {
          "base_uri": "https://localhost:8080/"
        },
        "id": "NQABr6LRB9ZU",
        "outputId": "10fd25db-0770-4eef-c9c5-ff07267b4339"
      },
      "execution_count": 37,
      "outputs": [
        {
          "output_type": "stream",
          "name": "stdout",
          "text": [
            "Enter age:18\n",
            "Age is qualified\n"
          ]
        }
      ]
    },
    {
      "cell_type": "markdown",
      "source": [
        "#Application 2. Write a program that determines if the input number is POSITIVE, NEGATIVE, or ZERO."
      ],
      "metadata": {
        "id": "NFlinRWTC5DU"
      }
    },
    {
      "cell_type": "code",
      "source": [
        "num = input(\"Enter num:\")\n",
        "if int(num)>0:\n",
        " print(\"The number is POSITIVE\") \n",
        "elif int(num)<0:\n",
        " print(\"The number is NEGATIVE\") \n",
        "else:\n",
        " print(\"The number is ZERO\") "
      ],
      "metadata": {
        "colab": {
          "base_uri": "https://localhost:8080/"
        },
        "id": "Jgh4_A4JFc4n",
        "outputId": "7ba158f6-160a-4a0a-b05b-f3288d62ef7f"
      },
      "execution_count": 45,
      "outputs": [
        {
          "output_type": "stream",
          "name": "stdout",
          "text": [
            "Enter num:2\n",
            "The number is POSITIVE\n"
          ]
        }
      ]
    },
    {
      "cell_type": "markdown",
      "source": [
        "#For loop Statement"
      ],
      "metadata": {
        "id": "FFa6ltCRC_wR"
      }
    },
    {
      "cell_type": "code",
      "source": [
        "week = [\"Sunday\", \"Monday\", \"Tuesday\", \"Wedenesday\", \"Thursday\", \"Friday\", \"Saturday\"]\n",
        "\n",
        "for y in week:\n",
        "  if y == \"Thursday\":\n",
        "    break\n",
        "  print(y)"
      ],
      "metadata": {
        "colab": {
          "base_uri": "https://localhost:8080/"
        },
        "id": "TacFIC2vC_ZA",
        "outputId": "a1b7a063-44b2-4524-b03b-08fdd534acad"
      },
      "execution_count": 38,
      "outputs": [
        {
          "output_type": "stream",
          "name": "stdout",
          "text": [
            "Sunday\n",
            "Monday\n",
            "Tuesday\n",
            "Wedenesday\n"
          ]
        }
      ]
    },
    {
      "cell_type": "code",
      "source": [
        "for x in \"week\":\n",
        "  print(x)\n",
        "  "
      ],
      "metadata": {
        "colab": {
          "base_uri": "https://localhost:8080/"
        },
        "id": "h2yjL20gFN84",
        "outputId": "469e2e77-1fa5-43a0-bfdc-ff9c6cd0cc05"
      },
      "execution_count": 39,
      "outputs": [
        {
          "output_type": "stream",
          "name": "stdout",
          "text": [
            "w\n",
            "e\n",
            "e\n",
            "k\n"
          ]
        }
      ]
    },
    {
      "cell_type": "code",
      "source": [
        "#range() function\n",
        "for x in range(6):\n",
        "  print(x)"
      ],
      "metadata": {
        "colab": {
          "base_uri": "https://localhost:8080/"
        },
        "id": "B-dwmqLJFR5H",
        "outputId": "1a2fb807-9a11-4ddb-fd8e-9cf1dec8b185"
      },
      "execution_count": 40,
      "outputs": [
        {
          "output_type": "stream",
          "name": "stdout",
          "text": [
            "0\n",
            "1\n",
            "2\n",
            "3\n",
            "4\n",
            "5\n"
          ]
        }
      ]
    },
    {
      "cell_type": "code",
      "source": [
        "for x in range(2,6+1,1):\n",
        "  print(x)"
      ],
      "metadata": {
        "colab": {
          "base_uri": "https://localhost:8080/"
        },
        "id": "Cky9AhrpFXR1",
        "outputId": "6efe3135-3ee9-42d4-fb8e-719a28ae613d"
      },
      "execution_count": 42,
      "outputs": [
        {
          "output_type": "stream",
          "name": "stdout",
          "text": [
            "2\n",
            "3\n",
            "4\n",
            "5\n",
            "6\n"
          ]
        }
      ]
    },
    {
      "cell_type": "code",
      "source": [
        "adjective = [\"red\", \"big\", \"tasty\"]\n",
        "fruits = [\"apple\", \"banana\", \"berry\"]\n",
        "for x in adjective:\n",
        "  for y in fruits:\n",
        "    print(x,y)"
      ],
      "metadata": {
        "colab": {
          "base_uri": "https://localhost:8080/"
        },
        "id": "J0qP6xaxGxl6",
        "outputId": "7228a859-4598-42b2-a109-4f0a2d15aa9a"
      },
      "execution_count": 46,
      "outputs": [
        {
          "output_type": "stream",
          "name": "stdout",
          "text": [
            "red apple\n",
            "red banana\n",
            "red berry\n",
            "big apple\n",
            "big banana\n",
            "big berry\n",
            "tasty apple\n",
            "tasty banana\n",
            "tasty berry\n"
          ]
        }
      ]
    },
    {
      "cell_type": "code",
      "source": [
        "i = 1 \n",
        "while i<6:\n",
        "  print(i)\n",
        "  i+=1"
      ],
      "metadata": {
        "colab": {
          "base_uri": "https://localhost:8080/"
        },
        "id": "x-EPyqnHHXEp",
        "outputId": "71872054-dfd3-405c-8eb3-7d071e64a627"
      },
      "execution_count": 51,
      "outputs": [
        {
          "output_type": "stream",
          "name": "stdout",
          "text": [
            "1\n",
            "2\n",
            "3\n",
            "4\n",
            "5\n"
          ]
        }
      ]
    },
    {
      "cell_type": "code",
      "source": [
        "i = 1\n",
        "while i <= 6:\n",
        "  print(i)\n",
        "  if i == 3:\n",
        "    break\n",
        "  i+=1"
      ],
      "metadata": {
        "colab": {
          "base_uri": "https://localhost:8080/"
        },
        "id": "vcn6ccNIH126",
        "outputId": "2a8f4539-55ec-4a90-f578-c97bf89322c9"
      },
      "execution_count": 52,
      "outputs": [
        {
          "output_type": "stream",
          "name": "stdout",
          "text": [
            "1\n",
            "2\n",
            "3\n"
          ]
        }
      ]
    },
    {
      "cell_type": "code",
      "source": [
        "# using while loop and break statement, the output is only 3 "
      ],
      "metadata": {
        "id": "QG4yPdA-InL_"
      },
      "execution_count": null,
      "outputs": []
    }
  ]
}