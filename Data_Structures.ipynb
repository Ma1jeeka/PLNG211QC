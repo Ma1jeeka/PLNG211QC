{
  "nbformat": 4,
  "nbformat_minor": 0,
  "metadata": {
    "colab": {
      "provenance": [],
      "authorship_tag": "ABX9TyNXbDuMgIoMIZ27srIYMtn1",
      "include_colab_link": true
    },
    "kernelspec": {
      "name": "python3",
      "display_name": "Python 3"
    },
    "language_info": {
      "name": "python"
    }
  },
  "cells": [
    {
      "cell_type": "markdown",
      "metadata": {
        "id": "view-in-github",
        "colab_type": "text"
      },
      "source": [
        "<a href=\"https://colab.research.google.com/github/alvajanpaulmiguel/PLNG211QC/blob/main/Data_Structures.ipynb\" target=\"_parent\"><img src=\"https://colab.research.google.com/assets/colab-badge.svg\" alt=\"Open In Colab\"/></a>"
      ]
    },
    {
      "cell_type": "markdown",
      "source": [
        "#BooleanCond\n"
      ],
      "metadata": {
        "id": "TQIEppGfAFeA"
      }
    },
    {
      "cell_type": "code",
      "execution_count": null,
      "metadata": {
        "colab": {
          "base_uri": "https://localhost:8080/"
        },
        "id": "8qAAPhkMACcg",
        "outputId": "714d297c-ae36-4824-c357-73c8d066d369"
      },
      "outputs": [
        {
          "output_type": "stream",
          "name": "stdout",
          "text": [
            "var x is True\n"
          ]
        }
      ],
      "source": [
        "x= True\n",
        "if x:\n",
        "  print(\"var x is True\")\n",
        "else:\n",
        "  print(\"var x is False\")\n"
      ]
    },
    {
      "cell_type": "markdown",
      "source": [
        "#StringCond"
      ],
      "metadata": {
        "id": "5_6oIJ8uAF4Y"
      }
    },
    {
      "cell_type": "code",
      "source": [
        "x = \"Hello World!\"\n",
        "\n",
        "if x == 'Hello World!':\n",
        "  print(\"var x is Hello World!\")\n",
        "else: \n",
        "  print(\"var x is not Hello World!\")"
      ],
      "metadata": {
        "colab": {
          "base_uri": "https://localhost:8080/"
        },
        "id": "7qt3Yu6TAGMn",
        "outputId": "b6029379-9d5c-4723-b7fa-5f11706c0351"
      },
      "execution_count": null,
      "outputs": [
        {
          "output_type": "stream",
          "name": "stdout",
          "text": [
            "var x is Hello World!\n"
          ]
        }
      ]
    },
    {
      "cell_type": "markdown",
      "source": [
        "#numerical"
      ],
      "metadata": {
        "id": "Ie8cl-VFAGiv"
      }
    },
    {
      "cell_type": "code",
      "source": [
        "x = 10\n",
        "\n",
        "if x == '10':\n",
        "  print(\"var x is a string\")\n",
        "elif x == 10:\n",
        "  print(\"var x is an integer\")\n",
        "else:\n",
        "  print(\"var x is none of the above\")"
      ],
      "metadata": {
        "colab": {
          "base_uri": "https://localhost:8080/"
        },
        "id": "xMLmEwo5AGxX",
        "outputId": "014d1666-f53a-4b2f-8286-81e7445da410"
      },
      "execution_count": null,
      "outputs": [
        {
          "output_type": "stream",
          "name": "stdout",
          "text": [
            "var x is an integer\n"
          ]
        }
      ]
    },
    {
      "cell_type": "markdown",
      "source": [
        "#ForLoops\n"
      ],
      "metadata": {
        "id": "iBxjHuZlAHVH"
      }
    },
    {
      "cell_type": "code",
      "source": [
        "for var in range(0,5,2):\n",
        "  print(var)\n"
      ],
      "metadata": {
        "colab": {
          "base_uri": "https://localhost:8080/"
        },
        "id": "h_8kmhKtAHne",
        "outputId": "c7afebb4-90ca-4d32-94af-0edaf2274a21"
      },
      "execution_count": null,
      "outputs": [
        {
          "output_type": "stream",
          "name": "stdout",
          "text": [
            "0\n",
            "2\n",
            "4\n"
          ]
        }
      ]
    },
    {
      "cell_type": "markdown",
      "source": [
        "#WhileLoops"
      ],
      "metadata": {
        "id": "oyEWNJQQAHyv"
      }
    },
    {
      "cell_type": "code",
      "source": [
        "var=0\n",
        "while var < 5:\n",
        "  print(var)\n",
        "  var +=2 "
      ],
      "metadata": {
        "colab": {
          "base_uri": "https://localhost:8080/"
        },
        "id": "-bQMnT02AIDm",
        "outputId": "d1a2b893-7ff8-4ce2-e381-85590e6ff6c2"
      },
      "execution_count": null,
      "outputs": [
        {
          "output_type": "stream",
          "name": "stdout",
          "text": [
            "0\n",
            "2\n",
            "4\n"
          ]
        }
      ]
    },
    {
      "cell_type": "markdown",
      "source": [
        "#NestedLoops"
      ],
      "metadata": {
        "id": "vxC9y9jFAIRf"
      }
    },
    {
      "cell_type": "code",
      "source": [
        "x = 0\n",
        "while x<5:\n",
        "  for y in range (0,x):\n",
        "    print(y,end='')\n",
        "  x+=1\n",
        "  print()"
      ],
      "metadata": {
        "colab": {
          "base_uri": "https://localhost:8080/"
        },
        "id": "RU_kqc2gAIiG",
        "outputId": "38051b41-6f41-49dc-d79d-6d947bdb1621"
      },
      "execution_count": null,
      "outputs": [
        {
          "output_type": "stream",
          "name": "stdout",
          "text": [
            "\n",
            "0\n",
            "01\n",
            "012\n",
            "0123\n"
          ]
        }
      ]
    },
    {
      "cell_type": "markdown",
      "source": [],
      "metadata": {
        "id": "Sh6cKHnIAiH3"
      }
    },
    {
      "cell_type": "code",
      "source": [
        "pi = 3.14159\n",
        "varList = [1, 2, 'A', 'B', 'Hello!', pi]\n",
        "print(varList[0])\n"
      ],
      "metadata": {
        "colab": {
          "base_uri": "https://localhost:8080/"
        },
        "id": "a86i1aAFAiYy",
        "outputId": "13beed3c-0ac5-48db-e05f-ecea5d9da87f"
      },
      "execution_count": null,
      "outputs": [
        {
          "output_type": "stream",
          "name": "stdout",
          "text": [
            "1\n"
          ]
        }
      ]
    },
    {
      "cell_type": "code",
      "source": [
        "print(varlist[4])"
      ],
      "metadata": {
        "colab": {
          "base_uri": "https://localhost:8080/"
        },
        "id": "6ZLoW2JKBPOv",
        "outputId": "f5d801db-3df0-405c-b097-a430f97f7926"
      },
      "execution_count": null,
      "outputs": [
        {
          "output_type": "stream",
          "name": "stdout",
          "text": [
            "Hello!\n"
          ]
        }
      ]
    },
    {
      "cell_type": "code",
      "source": [
        "varList.append('world!')\n",
        "print(varList[6])"
      ],
      "metadata": {
        "colab": {
          "base_uri": "https://localhost:8080/"
        },
        "id": "5qMEadIZBTzW",
        "outputId": "02f03615-4a74-4b7d-fafb-65cc570c8117"
      },
      "execution_count": null,
      "outputs": [
        {
          "output_type": "stream",
          "name": "stdout",
          "text": [
            "world!\n"
          ]
        }
      ]
    },
    {
      "cell_type": "markdown",
      "source": [
        "#Slicing"
      ],
      "metadata": {
        "id": "RG1pAvpXBbCy"
      }
    },
    {
      "cell_type": "code",
      "source": [
        "varList = [1,2,3,4,5,6,7,8,9,10]\n",
        "print(varList[:5])"
      ],
      "metadata": {
        "colab": {
          "base_uri": "https://localhost:8080/"
        },
        "id": "zWioPzvbBeP7",
        "outputId": "26b4f6e6-246a-4863-feb7-ff87a5ceb9cc"
      },
      "execution_count": null,
      "outputs": [
        {
          "output_type": "stream",
          "name": "stdout",
          "text": [
            "[1, 2, 3, 4, 5]\n"
          ]
        }
      ]
    },
    {
      "cell_type": "code",
      "source": [
        "print(varList[:5])"
      ],
      "metadata": {
        "colab": {
          "base_uri": "https://localhost:8080/"
        },
        "id": "CPJGEMIqBl8x",
        "outputId": "c5ffe480-0d2d-4dab-f2e4-5114e6abe929"
      },
      "execution_count": null,
      "outputs": [
        {
          "output_type": "stream",
          "name": "stdout",
          "text": [
            "[1, 2, 3, 4, 5]\n"
          ]
        }
      ]
    },
    {
      "cell_type": "code",
      "source": [
        "print(varList[-2])"
      ],
      "metadata": {
        "colab": {
          "base_uri": "https://localhost:8080/"
        },
        "id": "8i-xUsToBmHp",
        "outputId": "35606488-ebe4-4220-f5bb-09739fff4bed"
      },
      "execution_count": null,
      "outputs": [
        {
          "output_type": "stream",
          "name": "stdout",
          "text": [
            "9\n"
          ]
        }
      ]
    },
    {
      "cell_type": "code",
      "source": [
        "print(varList[-2:])"
      ],
      "metadata": {
        "colab": {
          "base_uri": "https://localhost:8080/"
        },
        "id": "PDAuS4dqBmbh",
        "outputId": "0f33f4c4-b7c8-4ad4-e727-cbcf8fde42f1"
      },
      "execution_count": null,
      "outputs": [
        {
          "output_type": "stream",
          "name": "stdout",
          "text": [
            "[9, 10]\n"
          ]
        }
      ]
    },
    {
      "cell_type": "code",
      "source": [
        "print(varList[2:-2])"
      ],
      "metadata": {
        "colab": {
          "base_uri": "https://localhost:8080/"
        },
        "id": "_T-WHNThBmxC",
        "outputId": "eebfacd9-a091-4024-9309-74ffe1bd8e10"
      },
      "execution_count": null,
      "outputs": [
        {
          "output_type": "stream",
          "name": "stdout",
          "text": [
            "[3, 4, 5, 6, 7, 8]\n"
          ]
        }
      ]
    },
    {
      "cell_type": "code",
      "source": [
        "print(varList[2:8:2])"
      ],
      "metadata": {
        "colab": {
          "base_uri": "https://localhost:8080/"
        },
        "id": "MG80rywuBu1g",
        "outputId": "b22f8eb1-c7be-46b9-9190-c6e67a0188e9"
      },
      "execution_count": null,
      "outputs": [
        {
          "output_type": "stream",
          "name": "stdout",
          "text": [
            "[3, 5, 7]\n"
          ]
        }
      ]
    },
    {
      "cell_type": "code",
      "source": [
        "var1 = \"ABC\"\n",
        "var2 = \"DEF\"\n",
        "var3 = \"GHI\"\n",
        "print(var1)\n",
        "print(var2)\n",
        "print(var2)\n",
        "a = b = c = \"123\"\n",
        "print(a)\n",
        "print(b)\n",
        "print(c)"
      ],
      "metadata": {
        "colab": {
          "base_uri": "https://localhost:8080/"
        },
        "id": "ALtC17YdE_CS",
        "outputId": "c48cab7a-841a-404d-ad6f-b8cb1071a233"
      },
      "execution_count": null,
      "outputs": [
        {
          "output_type": "stream",
          "name": "stdout",
          "text": [
            "ABC\n",
            "DEF\n",
            "DEF\n",
            "123\n",
            "123\n",
            "123\n"
          ]
        }
      ]
    },
    {
      "cell_type": "markdown",
      "source": [
        "#Asynchronous Activity\n",
        "Salary_rate = 600/day\n",
        "Salary = Salary_rate *15 (days)\n",
        "Taxable_amount = 30% of the Salary\n",
        "Net_pay = Salary - Taxable_amount\n",
        "\n"
      ],
      "metadata": {
        "id": "LLGFAxA4GABR"
      }
    },
    {
      "cell_type": "code",
      "source": [
        "Salary_rate = 600\n",
        "Salary = Salary_rate *15\n",
        "Taxable_amount = 0.3 * Salary\n",
        "Net_pay = Salary - Taxable_amount\n",
        "print(\"Net pay = \",Net_pay)"
      ],
      "metadata": {
        "id": "JUs58T5PF8-s",
        "colab": {
          "base_uri": "https://localhost:8080/"
        },
        "outputId": "724090b7-54ae-40c5-a131-34ef008abad5"
      },
      "execution_count": 20,
      "outputs": [
        {
          "output_type": "stream",
          "name": "stdout",
          "text": [
            "Net pay =  6300.0\n"
          ]
        }
      ]
    }
  ]
}