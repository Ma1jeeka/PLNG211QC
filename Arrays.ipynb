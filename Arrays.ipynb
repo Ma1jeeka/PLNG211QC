{
  "nbformat": 4,
  "nbformat_minor": 0,
  "metadata": {
    "colab": {
      "provenance": [],
      "authorship_tag": "ABX9TyNB/kXNGNah9IRTX0q5GEU5",
      "include_colab_link": true
    },
    "kernelspec": {
      "name": "python3",
      "display_name": "Python 3"
    },
    "language_info": {
      "name": "python"
    }
  },
  "cells": [
    {
      "cell_type": "markdown",
      "metadata": {
        "id": "view-in-github",
        "colab_type": "text"
      },
      "source": [
        "<a href=\"https://colab.research.google.com/github/alvajanpaulmiguel/PLNG211QC/blob/main/Arrays.ipynb\" target=\"_parent\"><img src=\"https://colab.research.google.com/assets/colab-badge.svg\" alt=\"Open In Colab\"/></a>"
      ]
    },
    {
      "cell_type": "code",
      "execution_count": 7,
      "metadata": {
        "colab": {
          "base_uri": "https://localhost:8080/"
        },
        "id": "R2QI0cGm2Kwl",
        "outputId": "8c868003-2049-4212-fd84-54d7acb5bef3"
      },
      "outputs": [
        {
          "output_type": "stream",
          "name": "stdout",
          "text": [
            "The animals are: ['cat', 'dog', 'fish']\n",
            "The animal in the first list is: cat\n"
          ]
        }
      ],
      "source": [
        "#Accessing the elements in the array\n",
        "animals = ['cat', 'dog', 'fish']\n",
        "print('The animals are:',animals)\n",
        "print('The animal in the first list is:',animals[0])"
      ]
    },
    {
      "cell_type": "code",
      "source": [
        "#Modifying the element/s in the array\n",
        "animals = ['cat', 'dog', 'fish']\n",
        "animals[0] = 'monkey'\n",
        "print(animals)"
      ],
      "metadata": {
        "colab": {
          "base_uri": "https://localhost:8080/"
        },
        "id": "xevEvmbF62GC",
        "outputId": "e1744371-764a-4af4-a2ed-22e743b8ce69"
      },
      "execution_count": 8,
      "outputs": [
        {
          "output_type": "stream",
          "name": "stdout",
          "text": [
            "['monkey', 'dog', 'fish']\n"
          ]
        }
      ]
    },
    {
      "cell_type": "code",
      "source": [
        "#Length of the array\n",
        "animals = ['cat', 'dog', 'fish']\n",
        "x = len(animals)\n",
        "print(x)"
      ],
      "metadata": {
        "colab": {
          "base_uri": "https://localhost:8080/"
        },
        "id": "hB_EEzlA7PXO",
        "outputId": "3f1d6301-a045-401a-cb14-b66cb3928faa"
      },
      "execution_count": 9,
      "outputs": [
        {
          "output_type": "stream",
          "name": "stdout",
          "text": [
            "3\n"
          ]
        }
      ]
    },
    {
      "cell_type": "code",
      "source": [
        "#Looping array Elements\n",
        "animals = ['cat', 'dog', 'fish']\n",
        "for x in animals:\n",
        "  print(x)"
      ],
      "metadata": {
        "colab": {
          "base_uri": "https://localhost:8080/"
        },
        "id": "45Zd8-pf7jnw",
        "outputId": "510febd6-3968-4e48-8124-7b457472e463"
      },
      "execution_count": 10,
      "outputs": [
        {
          "output_type": "stream",
          "name": "stdout",
          "text": [
            "cat\n",
            "dog\n",
            "fish\n"
          ]
        }
      ]
    },
    {
      "cell_type": "code",
      "source": [
        "#Adding elements in the last list of an array\n",
        "animals = ['cat', 'dog', 'fish']\n",
        "animals.insert(1,'monkey')\n",
        "print(animals)\n",
        "#append\n",
        "animals.append('bird')\n",
        "print(animals)"
      ],
      "metadata": {
        "colab": {
          "base_uri": "https://localhost:8080/"
        },
        "id": "yP313FPI71Vd",
        "outputId": "719f7ade-2ac4-4dc8-e8a7-ea9060203a91"
      },
      "execution_count": 21,
      "outputs": [
        {
          "output_type": "stream",
          "name": "stdout",
          "text": [
            "['cat', 'monkey', 'dog', 'fish']\n",
            "['cat', 'monkey', 'dog', 'fish', 'bird']\n"
          ]
        }
      ]
    },
    {
      "cell_type": "code",
      "source": [
        "#Removing\n",
        "animals.pop(3)\n",
        "print(animals)"
      ],
      "metadata": {
        "colab": {
          "base_uri": "https://localhost:8080/"
        },
        "id": "R2Ed92Gt8ncC",
        "outputId": "908c083f-af21-41a0-994c-13461292fa17"
      },
      "execution_count": 22,
      "outputs": [
        {
          "output_type": "stream",
          "name": "stdout",
          "text": [
            "['cat', 'monkey', 'dog', 'bird']\n"
          ]
        }
      ]
    },
    {
      "cell_type": "code",
      "source": [
        "from array import *\n",
        "#Pycharm community/student\n",
        "\n",
        "a = arr.array('d',[1.55,2,3.7,])\n",
        "print(a)\n",
        "a.typecode"
      ],
      "metadata": {
        "colab": {
          "base_uri": "https://localhost:8080/",
          "height": 53
        },
        "id": "458hF603A0JH",
        "outputId": "9feb3824-6446-4c4f-a1e5-70b48706a07c"
      },
      "execution_count": 28,
      "outputs": [
        {
          "output_type": "stream",
          "name": "stdout",
          "text": [
            "array('d', [1.55, 2.0, 3.7])\n"
          ]
        },
        {
          "output_type": "execute_result",
          "data": {
            "text/plain": [
              "'d'"
            ],
            "application/vnd.google.colaboratory.intrinsic+json": {
              "type": "string"
            }
          },
          "metadata": {},
          "execution_count": 28
        }
      ]
    },
    {
      "cell_type": "code",
      "source": [
        "from array import *\n",
        "a = array('i',[1,2,3])\n",
        "a.itemsize"
      ],
      "metadata": {
        "colab": {
          "base_uri": "https://localhost:8080/"
        },
        "id": "cU_u_AsfCxY0",
        "outputId": "7257f84d-a6a0-4260-be72-5feebaba1451"
      },
      "execution_count": 29,
      "outputs": [
        {
          "output_type": "execute_result",
          "data": {
            "text/plain": [
              "4"
            ]
          },
          "metadata": {},
          "execution_count": 29
        }
      ]
    },
    {
      "cell_type": "code",
      "source": [
        "from array import *\n",
        "a = array('i',[1,2,3,4])\n",
        "a.append(4)\n",
        "print(a)"
      ],
      "metadata": {
        "colab": {
          "base_uri": "https://localhost:8080/"
        },
        "id": "D4R4ElKZDlTh",
        "outputId": "f5f65c7b-258c-4364-ab96-13484e99851b"
      },
      "execution_count": 36,
      "outputs": [
        {
          "output_type": "stream",
          "name": "stdout",
          "text": [
            "array('i', [1, 2, 3, 4, 4])\n"
          ]
        }
      ]
    },
    {
      "cell_type": "code",
      "source": [
        "from array import *\n",
        "a = array('i',[1,2,3,3])\n",
        "a.count(3)\n"
      ],
      "metadata": {
        "colab": {
          "base_uri": "https://localhost:8080/"
        },
        "id": "7U18Eam0D8w7",
        "outputId": "0602cd57-9864-41c3-999d-14ee8e02b00d"
      },
      "execution_count": 39,
      "outputs": [
        {
          "output_type": "execute_result",
          "data": {
            "text/plain": [
              "2"
            ]
          },
          "metadata": {},
          "execution_count": 39
        }
      ]
    },
    {
      "cell_type": "code",
      "source": [
        "from array import *\n",
        "a = array('i',[1,2,3,])\n",
        "a.insert(4)\n",
        "print(a)\n"
      ],
      "metadata": {
        "id": "ofsdR7ouE58O"
      },
      "execution_count": null,
      "outputs": []
    }
  ]
}