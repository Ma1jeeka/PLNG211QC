{
  "nbformat": 4,
  "nbformat_minor": 0,
  "metadata": {
    "colab": {
      "provenance": [],
      "include_colab_link": true
    },
    "kernelspec": {
      "name": "python3",
      "display_name": "Python 3"
    },
    "language_info": {
      "name": "python"
    }
  },
  "cells": [
    {
      "cell_type": "markdown",
      "metadata": {
        "id": "view-in-github",
        "colab_type": "text"
      },
      "source": [
        "<a href=\"https://colab.research.google.com/github/alvajanpaulmiguel/PLNG211QC/blob/main/Introduction_to_Python_Programming.ipynb\" target=\"_parent\"><img src=\"https://colab.research.google.com/assets/colab-badge.svg\" alt=\"Open In Colab\"/></a>"
      ]
    },
    {
      "cell_type": "markdown",
      "source": [
        "Python Indentation"
      ],
      "metadata": {
        "id": "5G0wpfAOqkOY"
      }
    },
    {
      "cell_type": "code",
      "source": [
        "#This is an example of Python Indentation"
      ],
      "metadata": {
        "id": "GY_ewkjYqmEv"
      },
      "execution_count": null,
      "outputs": []
    },
    {
      "cell_type": "code",
      "source": [
        "if 5>2:\n",
        "    print(\"5 is greater than 2\")"
      ],
      "metadata": {
        "colab": {
          "base_uri": "https://localhost:8080/"
        },
        "id": "YL5bigqLqwM7",
        "outputId": "9301c565-d654-4e95-8b99-8823d09f46aa"
      },
      "execution_count": 6,
      "outputs": [
        {
          "output_type": "stream",
          "name": "stdout",
          "text": [
            "5 is greater than 2\n"
          ]
        }
      ]
    },
    {
      "cell_type": "code",
      "source": [
        "x = 1   \n",
        "a,b=0,-1\n",
        "a = 9\n",
        "c = \"Sally\"\n",
        "c = \"Danny\"\n",
        "print(a)\n",
        "print(c)\n",
        "print(c)\n",
        "c = \"Maria\"\n"
      ],
      "metadata": {
        "colab": {
          "base_uri": "https://localhost:8080/"
        },
        "id": "dyucJghCrdBx",
        "outputId": "29e68f82-3e2a-4f4c-d7ed-bbb5f41873dd"
      },
      "execution_count": null,
      "outputs": [
        {
          "output_type": "stream",
          "name": "stdout",
          "text": [
            "9\n",
            "Danny\n",
            "Danny\n"
          ]
        }
      ]
    },
    {
      "cell_type": "markdown",
      "source": [
        "Casting"
      ],
      "metadata": {
        "id": "IdZZPKrlup6s"
      }
    },
    {
      "cell_type": "code",
      "source": [
        "d = int(4)\n",
        "print(d)\n",
        "e = float(4)\n",
        "print(e)"
      ],
      "metadata": {
        "colab": {
          "base_uri": "https://localhost:8080/"
        },
        "id": "t1A0HQfBurts",
        "outputId": "91b44cda-8786-43a6-fe28-562924622dd2"
      },
      "execution_count": null,
      "outputs": [
        {
          "output_type": "stream",
          "name": "stdout",
          "text": [
            "4\n",
            "4.0\n"
          ]
        }
      ]
    },
    {
      "cell_type": "markdown",
      "source": [
        "Type () Function"
      ],
      "metadata": {
        "id": "ImNfCLTGv77N"
      }
    },
    {
      "cell_type": "code",
      "source": [
        "print(type(d))\n",
        "print(type(e))"
      ],
      "metadata": {
        "colab": {
          "base_uri": "https://localhost:8080/"
        },
        "id": "AYlGTq6mv-OD",
        "outputId": "1d3e485a-f589-417b-cd0f-0fa4055760f2"
      },
      "execution_count": null,
      "outputs": [
        {
          "output_type": "stream",
          "name": "stdout",
          "text": [
            "<class 'int'>\n",
            "<class 'float'>\n"
          ]
        }
      ]
    },
    {
      "cell_type": "markdown",
      "source": [
        "Single Quote or Double Quote"
      ],
      "metadata": {
        "id": "Y7_Wo3khwTLz"
      }
    },
    {
      "cell_type": "code",
      "source": [
        "f=\"Maria\"\n",
        "print(f)\n",
        "g = 'ana'\n",
        "print(g)"
      ],
      "metadata": {
        "colab": {
          "base_uri": "https://localhost:8080/"
        },
        "id": "7yZAmLV-wo0a",
        "outputId": "e8217445-c87a-41e5-9a0a-81e242d8bbe6"
      },
      "execution_count": null,
      "outputs": [
        {
          "output_type": "stream",
          "name": "stdout",
          "text": [
            "Maria\n",
            "ana\n"
          ]
        }
      ]
    },
    {
      "cell_type": "markdown",
      "source": [
        "Multiple Variables"
      ],
      "metadata": {
        "id": "PwaDYurwxL16"
      }
    },
    {
      "cell_type": "code",
      "source": [
        "x,y,z=4,5,7\n",
        "print(x)\n",
        "print(y)"
      ],
      "metadata": {
        "colab": {
          "base_uri": "https://localhost:8080/"
        },
        "id": "bQHjO-6rxPUr",
        "outputId": "b3f2a8df-28e3-4e19-c824-a950c74c71af"
      },
      "execution_count": null,
      "outputs": [
        {
          "output_type": "stream",
          "name": "stdout",
          "text": [
            "4\n",
            "5\n"
          ]
        }
      ]
    },
    {
      "cell_type": "markdown",
      "source": [
        "Single Value to a Multiple Variables"
      ],
      "metadata": {
        "id": "JExvJTZPxy9y"
      }
    },
    {
      "cell_type": "code",
      "source": [
        "x=y=z=\"Lilo\"\n",
        "print(x)\n",
        "print(y)\n",
        "print(z)"
      ],
      "metadata": {
        "colab": {
          "base_uri": "https://localhost:8080/"
        },
        "id": "pjJfFdrtx1cU",
        "outputId": "c858fc54-cb96-43c7-e433-cddc94df762f"
      },
      "execution_count": null,
      "outputs": [
        {
          "output_type": "stream",
          "name": "stdout",
          "text": [
            "Lilo\n",
            "Lilo\n",
            "Lilo\n"
          ]
        }
      ]
    },
    {
      "cell_type": "markdown",
      "source": [
        "Output variable using Print and +"
      ],
      "metadata": {
        "id": "6IERf0mOymFa"
      }
    },
    {
      "cell_type": "code",
      "source": [
        "s=\"Python is\"\n",
        "t=\"Fun\"\n",
        "print(\"Python is\"+\"Fun\")\n",
        "\n",
        "print(s+t)"
      ],
      "metadata": {
        "colab": {
          "base_uri": "https://localhost:8080/"
        },
        "id": "XjT0kPrOypHq",
        "outputId": "8fa3ed97-82f2-4f48-b1dc-8931633621d3"
      },
      "execution_count": 10,
      "outputs": [
        {
          "output_type": "stream",
          "name": "stdout",
          "text": [
            "Python isFun\n",
            "Python isFun\n"
          ]
        }
      ]
    },
    {
      "cell_type": "markdown",
      "source": [
        "Arithmetic"
      ],
      "metadata": {
        "id": "pIVPifhX0Kco"
      }
    },
    {
      "cell_type": "code",
      "source": [],
      "metadata": {
        "id": "V1inls-_yW7k"
      },
      "execution_count": null,
      "outputs": []
    },
    {
      "cell_type": "code",
      "source": [
        "x = 1\n",
        "y = 42\n",
        "sum = x+y\n",
        "x\n",
        "y\n",
        "sum\n",
        "print(x)\n",
        "print(y)\n",
        "print(sum)\n",
        "\n",
        "#modulo division\n",
        "l = 4%2\n",
        "print(\"4%2=\",l)\n",
        "\n",
        "k = 3//2\n",
        "#floor division\n",
        "print(\"4//2=\",k)"
      ],
      "metadata": {
        "colab": {
          "base_uri": "https://localhost:8080/"
        },
        "id": "pwQHiUXN0E7g",
        "outputId": "b27573db-79aa-4f48-ecc2-df5c68183fd6"
      },
      "execution_count": null,
      "outputs": [
        {
          "output_type": "stream",
          "name": "stdout",
          "text": [
            "1\n",
            "42\n",
            "43\n",
            "4%2= 0\n",
            "4//2= 1\n"
          ]
        }
      ]
    },
    {
      "cell_type": "markdown",
      "source": [
        "Assignment Operator\n"
      ],
      "metadata": {
        "id": "QhFHUBsa2ePI"
      }
    },
    {
      "cell_type": "code",
      "source": [
        "x+=1         #x = x + 1\n",
        "print(\"x+=1 = \",x)"
      ],
      "metadata": {
        "colab": {
          "base_uri": "https://localhost:8080/"
        },
        "id": "vcdFRlDI2fn_",
        "outputId": "594637cc-a7fa-4050-ce76-09100a61dfaa"
      },
      "execution_count": null,
      "outputs": [
        {
          "output_type": "stream",
          "name": "stdout",
          "text": [
            "x+=1 =  4\n"
          ]
        }
      ]
    },
    {
      "cell_type": "markdown",
      "source": [
        "Logical Operator"
      ],
      "metadata": {
        "id": "BA2S9w_v3eqm"
      }
    },
    {
      "cell_type": "code",
      "source": [
        "q = 1\n",
        "r = 4\n",
        "r > q and r == r"
      ],
      "metadata": {
        "colab": {
          "base_uri": "https://localhost:8080/"
        },
        "id": "fXnC4bGU3f-f",
        "outputId": "40c6520d-5730-4848-ef8e-e9282f0f3402"
      },
      "execution_count": null,
      "outputs": [
        {
          "output_type": "execute_result",
          "data": {
            "text/plain": [
              "True"
            ]
          },
          "metadata": {},
          "execution_count": 46
        }
      ]
    }
  ]
}