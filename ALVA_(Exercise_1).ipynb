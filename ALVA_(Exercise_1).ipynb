{
  "nbformat": 4,
  "nbformat_minor": 0,
  "metadata": {
    "colab": {
      "provenance": [],
      "authorship_tag": "ABX9TyOGLshhFeOcKqT5ymSuEi4O",
      "include_colab_link": true
    },
    "kernelspec": {
      "name": "python3",
      "display_name": "Python 3"
    },
    "language_info": {
      "name": "python"
    }
  },
  "cells": [
    {
      "cell_type": "markdown",
      "metadata": {
        "id": "view-in-github",
        "colab_type": "text"
      },
      "source": [
        "<a href=\"https://colab.research.google.com/github/alvajanpaulmiguel/PLNG211QC/blob/main/ALVA_(Exercise_1).ipynb\" target=\"_parent\"><img src=\"https://colab.research.google.com/assets/colab-badge.svg\" alt=\"Open In Colab\"/></a>"
      ]
    },
    {
      "cell_type": "code",
      "execution_count": 43,
      "metadata": {
        "colab": {
          "base_uri": "https://localhost:8080/"
        },
        "id": "32sS49BFKab8",
        "outputId": "96ac58a6-2445-41ef-e933-91787120a5c1"
      },
      "outputs": [
        {
          "output_type": "stream",
          "name": "stdout",
          "text": [
            "Default numbers = [26, 49, 98, 87, 62, 75]\n",
            "Even numbers =  [26, 98, 62]\n",
            "Sum of only even numbers:  186\n"
          ]
        }
      ],
      "source": [
        "#Exercise 1\n",
        "#Design an algorithm and the corresponding flowchart (Note: You may use LucidChart or any application) for adding the test scores as given below if the number is even: 26,49,98,87,62,75\n",
        "default = [26,49,98,87,62,75]\n",
        "\n",
        "even = []\n",
        "sum = 0\n",
        "for number in default:\n",
        "   if number % 2 == 0:\n",
        "       even.append(number)\n",
        "       sum = sum + number \n",
        "print(\"Default numbers =\",default)    \n",
        "print(\"Even numbers = \",even) \n",
        "print(\"Sum of only even numbers: \", sum)"
      ]
    }
  ]
}