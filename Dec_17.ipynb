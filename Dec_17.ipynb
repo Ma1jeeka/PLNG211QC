{
  "nbformat": 4,
  "nbformat_minor": 0,
  "metadata": {
    "colab": {
      "provenance": [],
      "authorship_tag": "ABX9TyPums9c1SrBhGg9Wynr4Jvb",
      "include_colab_link": true
    },
    "kernelspec": {
      "name": "python3",
      "display_name": "Python 3"
    },
    "language_info": {
      "name": "python"
    }
  },
  "cells": [
    {
      "cell_type": "markdown",
      "metadata": {
        "id": "view-in-github",
        "colab_type": "text"
      },
      "source": [
        "<a href=\"https://colab.research.google.com/github/alvajanpaulmiguel/PLNG211QC/blob/main/Dec_17.ipynb\" target=\"_parent\"><img src=\"https://colab.research.google.com/assets/colab-badge.svg\" alt=\"Open In Colab\"/></a>"
      ]
    },
    {
      "cell_type": "code",
      "execution_count": 7,
      "metadata": {
        "id": "7OkDHETIc9QH",
        "colab": {
          "base_uri": "https://localhost:8080/"
        },
        "outputId": "5afb8425-06dc-4fb7-e186-bc57daaeafea"
      },
      "outputs": [
        {
          "output_type": "stream",
          "name": "stdout",
          "text": [
            "The area of the rectangle is: 98\n",
            "The perimeter of the rectangle is: 42\n"
          ]
        }
      ],
      "source": [
        "#Create a Rectangle class in Python language with length and width attributes,\n",
        "#Perimeter() and Area() as methods to compute for the perimeter and area of a rectangle.\n",
        "\n",
        "class Rectangle:\n",
        "  def __init__(self,length,width):\n",
        "    self.length = length\n",
        "    self.width = width\n",
        "\n",
        "  def Perimeter(self):\n",
        "    return 2*self.length + 2*self.width\n",
        "\n",
        "  def Area(self):\n",
        "    return self.length*self.width\n",
        "class Square(Rectangle):\n",
        "  pass\n",
        "  #def display(self):\n",
        "    #print(\"The perimeter of the rectangle is:\",self.Perimeter())\n",
        "    #print(\"The area of the rectangle is:\",self.Area())\n",
        "\n",
        "rectangle=Rectangle(14,7)\n",
        "square = Square(2,2)\n",
        "square.Perimeter()\n",
        "\n",
        "print(\"The area of the rectangle is:\",rectangle.Area())\n",
        "print(\"The perimeter of the rectangle is:\",rectangle.Perimeter())\n",
        "#rectangle.display(self):\n",
        "  #print(\"The perimeter of the rectangle is:\",self.Perimeter())\n",
        "  #print(\"The area of the rectangle is:\",self.Area())\n",
        "rectangle=Rectangle(14,7) \n",
        "square = Square(2,2) "
      ]
    },
    {
      "cell_type": "code",
      "source": [
        "array = [1,2,3,4,5]\n",
        "x=pow(2,2)\n",
        "array.append(6)\n",
        "print(array)\n",
        "print(x)"
      ],
      "metadata": {
        "colab": {
          "base_uri": "https://localhost:8080/"
        },
        "id": "Rq79ouXFfBo2",
        "outputId": "d147df23-709c-4e6e-df6b-29199ea89236"
      },
      "execution_count": 2,
      "outputs": [
        {
          "output_type": "stream",
          "name": "stdout",
          "text": [
            "[1, 2, 3, 4, 5, 6]\n",
            "4\n"
          ]
        }
      ]
    },
    {
      "cell_type": "code",
      "source": [
        "class Person:\n",
        "  def __init__ (self,name,age,school):\n",
        "    self.name = name\n",
        "    self.age = age\n",
        "    self.school = school\n",
        "\n",
        "  def display(self):\n",
        "    print(\"The name of the person is:\",self.name)\n",
        "    print(\"The age of the person is\",self.age)\n",
        "    print(\"The school of the person is:\",self.school)\n",
        "class Student(Person):\n",
        "  pass\n",
        "person = Person(\"Ana\",18,\"OLFU\")\n",
        "student = Student(\"Rey\",19,\"Adamson University\")\n",
        "person.display()\n",
        "student.display()"
      ],
      "metadata": {
        "colab": {
          "base_uri": "https://localhost:8080/"
        },
        "id": "B3SvfVJCf4di",
        "outputId": "6ced78f5-4d0e-42fe-d4e4-8e5343c38b07"
      },
      "execution_count": 4,
      "outputs": [
        {
          "output_type": "stream",
          "name": "stdout",
          "text": [
            "The name of the person is: Ana\n",
            "The age of the person is 18\n",
            "The school of the person is: OLFU\n",
            "The name of the person is: Rey\n",
            "The age of the person is 19\n",
            "The school of the person is: Adamson University\n"
          ]
        }
      ]
    }
  ]
}